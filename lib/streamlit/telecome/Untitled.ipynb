{
 "cells": [
  {
   "cell_type": "code",
   "execution_count": 16,
   "id": "b5ad9f0d",
   "metadata": {},
   "outputs": [],
   "source": [
    "import streamlit as st\n",
    "import psycopg2\n",
    "import pandas as pd"
   ]
  },
  {
   "cell_type": "code",
   "execution_count": 17,
   "id": "99f9c61b",
   "metadata": {},
   "outputs": [],
   "source": [
    "# Function to connect to PostgreSQL\n",
    "def connect_to_db():\n",
    "    connection = psycopg2.connect(\n",
    "        dbname=\"telecome\",\n",
    "        user=\"mebmeressa\",\n",
    "        password=\"\",\n",
    "        host=\"localhost\",\n",
    "        port=5432,  # Default is usually 5432\n",
    "    )\n",
    "    return connection"
   ]
  },
  {
   "cell_type": "code",
   "execution_count": 18,
   "id": "b5ca78f5",
   "metadata": {},
   "outputs": [],
   "source": [
    "def fetch_data():\n",
    "    try:\n",
    "        connection = connect_to_db()\n",
    "        cursor = connection.cursor()\n",
    "\n",
    "        cursor.execute(\"SELECT * FROM xdr_data\")\n",
    "        data = cursor.fetchall()\n",
    "\n",
    "        columns = [desc[0] for desc in cursor.description]\n",
    "        df = pd.DataFrame(data, columns=columns)\n",
    "\n",
    "        return df\n",
    "    except Exception as e:\n",
    "        st.error(f\"Error fetching data: {e}\")\n",
    "        return pd.DataFrame()  # Return an empty DataFrame on error\n",
    "    finally:\n",
    "        if connection:\n",
    "            connection.close()"
   ]
  },
  {
   "cell_type": "code",
   "execution_count": 19,
   "id": "84e5e81c",
   "metadata": {},
   "outputs": [
    {
     "name": "stderr",
     "output_type": "stream",
     "text": [
      "2023-12-12 20:13:29.017 \n",
      "  \u001b[33m\u001b[1mWarning:\u001b[0m to view this Streamlit app on a browser, run it with the following\n",
      "  command:\n",
      "\n",
      "    streamlit run /Users/mebmeressa/anaconda3/lib/python3.11/site-packages/ipykernel_launcher.py [ARGUMENTS]\n"
     ]
    }
   ],
   "source": [
    "# Main Streamlit app\n",
    "def main():\n",
    "    st.title(\"PostgreSQL and Streamlit Example\")\n",
    "\n",
    "    # Fetch data from PostgreSQL as a Pandas DataFrame\n",
    "    data = fetch_data()\n",
    "\n",
    "    # Display data in a Streamlit table\n",
    "    # st.table(data)\n",
    "    st.write(data.head(15000))\n",
    "\n",
    "if __name__ == \"__main__\":\n",
    "    main()"
   ]
  },
  {
   "cell_type": "code",
   "execution_count": null,
   "id": "c0dd834c",
   "metadata": {},
   "outputs": [],
   "source": []
  }
 ],
 "metadata": {
  "kernelspec": {
   "display_name": "Python 3 (ipykernel)",
   "language": "python",
   "name": "python3"
  },
  "language_info": {
   "codemirror_mode": {
    "name": "ipython",
    "version": 3
   },
   "file_extension": ".py",
   "mimetype": "text/x-python",
   "name": "python",
   "nbconvert_exporter": "python",
   "pygments_lexer": "ipython3",
   "version": "3.11.5"
  }
 },
 "nbformat": 4,
 "nbformat_minor": 5
}
